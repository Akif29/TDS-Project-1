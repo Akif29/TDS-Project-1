{
 "cells": [
  {
   "cell_type": "markdown",
   "metadata": {},
   "source": [
    "### Import necessary libraries"
   ]
  },
  {
   "cell_type": "code",
   "execution_count": 53,
   "metadata": {},
   "outputs": [],
   "source": [
    "import pandas as pd\n",
    "from scipy.stats import linregress\n",
    "import statsmodels.api as sm\n",
    "from collections import Counter\n",
    "import statsmodels.api as sm"
   ]
  },
  {
   "cell_type": "markdown",
   "metadata": {},
   "source": [
    "### Top 5 users in Austin"
   ]
  },
  {
   "cell_type": "code",
   "execution_count": 54,
   "metadata": {},
   "outputs": [
    {
     "name": "stdout",
     "output_type": "stream",
     "text": [
      "Top 5 users in Austin by followers: getify, benawad, steveklabnik, cloudflare, jbogard\n"
     ]
    }
   ],
   "source": [
    "# Load users.csv into a DataFrame\n",
    "users_df = pd.read_csv(\"users.csv\")\n",
    "\n",
    "# Clean the location column\n",
    "users_df['location'] = users_df['location'].str.strip().str.lower()\n",
    "\n",
    "# Check how Austin is represented\n",
    "austin_users = users_df[users_df['location'].str.contains('austin')]\n",
    "\n",
    "# Sort by followers in descending order and get the top 5 users\n",
    "top_users = austin_users.sort_values(by='followers', ascending=False).head(5)\n",
    "\n",
    "# Extract the login of these users\n",
    "top_user_logins = top_users['login'].tolist()\n",
    "\n",
    "# Print the result as a comma-separated string\n",
    "print(\"Top 5 users in Austin by followers:\", \", \".join(top_user_logins))"
   ]
  },
  {
   "cell_type": "markdown",
   "metadata": {},
   "source": [
    "### Company with the most developers"
   ]
  },
  {
   "cell_type": "code",
   "execution_count": 55,
   "metadata": {},
   "outputs": [
    {
     "name": "stdout",
     "output_type": "stream",
     "text": [
      "Company with the most developers: GOOGLE\n"
     ]
    }
   ],
   "source": [
    "# Clean up the 'company' column\n",
    "users_df['company'] = users_df['company'].str.strip().str.lstrip('@').str.upper()\n",
    "\n",
    "# Count occurrences of each company and get the most common one\n",
    "most_common_company = users_df['company'].value_counts().idxmax()\n",
    "\n",
    "print(\"Company with the most developers:\", most_common_company)"
   ]
  },
  {
   "cell_type": "markdown",
   "metadata": {},
   "source": [
    "### Most popular programming language"
   ]
  },
  {
   "cell_type": "code",
   "execution_count": 56,
   "metadata": {},
   "outputs": [
    {
     "name": "stdout",
     "output_type": "stream",
     "text": [
      "Most popular programming language: JavaScript\n"
     ]
    }
   ],
   "source": [
    "# Load repositories.csv into a DataFrame\n",
    "repos_df = pd.read_csv(\"repositories.csv\")\n",
    "\n",
    "# Filter out rows where 'language' is missing or empty\n",
    "repos_df = repos_df[repos_df['language'].notna() & (repos_df['language'] != '')]\n",
    "\n",
    "# Count occurrences of each language and get the most common one\n",
    "most_common_language = repos_df['language'].value_counts().idxmax()\n",
    "\n",
    "print(\"Most popular programming language:\", most_common_language)"
   ]
  },
  {
   "cell_type": "markdown",
   "metadata": {},
   "source": [
    "### Second most popular programming language"
   ]
  },
  {
   "cell_type": "code",
   "execution_count": 57,
   "metadata": {},
   "outputs": [
    {
     "name": "stdout",
     "output_type": "stream",
     "text": [
      "Second most popular programming language among users who joined after 2020: JavaScript\n"
     ]
    }
   ],
   "source": [
    "# Convert 'created_at' to datetime format and filter for users who joined after 2020\n",
    "users_df['created_at'] = pd.to_datetime(users_df['created_at'])\n",
    "recent_users = users_df[users_df['created_at'] > '2020-12-31']\n",
    "\n",
    "# Filter repositories to include only those from recent users\n",
    "recent_user_logins = recent_users['login'].tolist()\n",
    "recent_repos_df = repos_df[repos_df['login'].isin(recent_user_logins)]\n",
    "\n",
    "# Filter out rows with missing or empty 'language'\n",
    "recent_repos_df = recent_repos_df[recent_repos_df['language'].notna() & (recent_repos_df['language'] != '')]\n",
    "\n",
    "# Count occurrences of each language and get the second most common one\n",
    "language_counts = recent_repos_df['language'].value_counts()\n",
    "second_most_common_language = language_counts.index[1]  # Get the second most common language\n",
    "\n",
    "print(\"Second most popular programming language among users who joined after 2020:\", second_most_common_language)"
   ]
  },
  {
   "cell_type": "markdown",
   "metadata": {},
   "source": [
    "### Average number of stars per repo"
   ]
  },
  {
   "cell_type": "code",
   "execution_count": 58,
   "metadata": {},
   "outputs": [
    {
     "name": "stdout",
     "output_type": "stream",
     "text": [
      "Language with the highest average number of stars per repository: Fennel\n",
      "Average stars: 2444.0\n"
     ]
    }
   ],
   "source": [
    "# Filter out rows where 'language' or 'stargazers_count' is missing\n",
    "repos_df = repos_df[repos_df['language'].notna() & (repos_df['language'] != '') & repos_df['stargazers_count'].notna()]\n",
    "\n",
    "# Group by 'language' and calculate the average number of stars\n",
    "avg_stars_per_language = repos_df.groupby('language')['stargazers_count'].mean()\n",
    "\n",
    "# Find the language with the highest average stars\n",
    "most_popular_language_by_stars = avg_stars_per_language.idxmax()\n",
    "highest_avg_stars = avg_stars_per_language.max()\n",
    "\n",
    "print(\"Language with the highest average number of stars per repository:\", most_popular_language_by_stars)\n",
    "print(\"Average stars:\", highest_avg_stars)"
   ]
  },
  {
   "cell_type": "markdown",
   "metadata": {},
   "source": [
    "### Top 5 users by leader_strength"
   ]
  },
  {
   "cell_type": "code",
   "execution_count": 59,
   "metadata": {},
   "outputs": [
    {
     "name": "stdout",
     "output_type": "stream",
     "text": [
      "Top 5 users by leader_strength: getify, cloudflare, benawad, oracle, ContinuumIO\n"
     ]
    }
   ],
   "source": [
    "# Calculate leader_strength as followers / (1 + following)\n",
    "users_df['leader_strength'] = users_df['followers'] / (1 + users_df['following'])\n",
    "\n",
    "# Sort by leader_strength in descending order and select the top 5\n",
    "top_leaders = users_df.sort_values(by='leader_strength', ascending=False).head(5)\n",
    "\n",
    "# Get the login names as a comma-separated string\n",
    "top_leader_logins = \", \".join(top_leaders['login'].tolist())\n",
    "print(\"Top 5 users by leader_strength:\", top_leader_logins)"
   ]
  },
  {
   "cell_type": "markdown",
   "metadata": {},
   "source": [
    "### Correlation between followers and public repo"
   ]
  },
  {
   "cell_type": "code",
   "execution_count": 60,
   "metadata": {},
   "outputs": [
    {
     "name": "stdout",
     "output_type": "stream",
     "text": [
      "Correlation between followers and public repositories: 0.15\n"
     ]
    }
   ],
   "source": [
    "# Calculate the correlation between 'followers' and 'public_repos'\n",
    "correlation = users_df['followers'].corr(users_df['public_repos'])\n",
    "\n",
    "# Print the correlation rounded to 3 decimal places\n",
    "print(\"Correlation between followers and public repositories:\", round(correlation, 3))"
   ]
  },
  {
   "cell_type": "markdown",
   "metadata": {},
   "source": [
    "### Estimated increase in followers per additional repo"
   ]
  },
  {
   "cell_type": "code",
   "execution_count": 61,
   "metadata": {},
   "outputs": [
    {
     "name": "stdout",
     "output_type": "stream",
     "text": [
      "Estimated increase in followers per additional repository: 4.09\n"
     ]
    }
   ],
   "source": [
    "# Perform linear regression on followers vs. public_repos\n",
    "slope, intercept, r_value, p_value, std_err = linregress(users_df['public_repos'], users_df['followers'])\n",
    "\n",
    "# Print the slope rounded to 3 decimal places\n",
    "print(\"Estimated increase in followers per additional repository:\", round(slope, 3))"
   ]
  },
  {
   "cell_type": "markdown",
   "metadata": {},
   "source": [
    "### Correlation between projects enabled and wiki enabled"
   ]
  },
  {
   "cell_type": "code",
   "execution_count": 62,
   "metadata": {},
   "outputs": [
    {
     "name": "stdout",
     "output_type": "stream",
     "text": [
      "Correlation between projects enabled and wiki enabled: 0.316\n"
     ]
    }
   ],
   "source": [
    "# Filter out rows with missing values in has_projects and has_wiki\n",
    "repos_df = repos_df[repos_df['has_projects'].notna() & repos_df['has_wiki'].notna()]\n",
    "\n",
    "# Convert boolean values to numeric: true=1, false=0\n",
    "repos_df['has_projects'] = repos_df['has_projects'].replace({'true': 1, 'false': 0})\n",
    "repos_df['has_wiki'] = repos_df['has_wiki'].replace({'true': 1, 'false': 0})\n",
    "\n",
    "# Calculate the correlation between has_projects and has_wiki\n",
    "correlation = repos_df['has_projects'].corr(repos_df['has_wiki'])\n",
    "\n",
    "# Print the correlation rounded to three decimal places\n",
    "print(\"Correlation between projects enabled and wiki enabled:\", round(correlation, 3))\n"
   ]
  },
  {
   "cell_type": "markdown",
   "metadata": {},
   "source": [
    "### Average following (hireable)"
   ]
  },
  {
   "cell_type": "code",
   "execution_count": 63,
   "metadata": {},
   "outputs": [
    {
     "name": "stdout",
     "output_type": "stream",
     "text": [
      "Average following (hireable): 185.21\n",
      "Average following (non-hireable): 75.18598382749326\n",
      "Difference in average following: 110.024\n"
     ]
    }
   ],
   "source": [
    "# Filter out users with 'none' in hireable status\n",
    "filtered_users_df = users_df[users_df['hireable'] != 'none']\n",
    "\n",
    "# Calculate average following for hireable users\n",
    "avg_following_hireable = filtered_users_df[filtered_users_df['hireable'] == 'true']['following'].mean()\n",
    "\n",
    "# Calculate average following for non-hireable users (those marked as 'none')\n",
    "avg_following_non_hireable = users_df[users_df['hireable'] == 'none']['following'].mean()\n",
    "\n",
    "# Calculate the difference\n",
    "difference = avg_following_hireable - avg_following_non_hireable\n",
    "\n",
    "# Print the result rounded to three decimal places\n",
    "print(\"Average following (hireable):\", avg_following_hireable)\n",
    "print(\"Average following (non-hireable):\", avg_following_non_hireable)\n",
    "print(\"Difference in average following:\", round(difference, 3))\n"
   ]
  },
  {
   "cell_type": "markdown",
   "metadata": {},
   "source": [
    "### Regression slope of followers on bio word count"
   ]
  },
  {
   "cell_type": "code",
   "execution_count": 64,
   "metadata": {},
   "outputs": [
    {
     "name": "stdout",
     "output_type": "stream",
     "text": [
      "Regression slope of followers on bio word count: 9.195\n"
     ]
    },
    {
     "name": "stderr",
     "output_type": "stream",
     "text": [
      "C:\\Users\\akifk\\AppData\\Local\\Temp\\ipykernel_18352\\2602395119.py:5: SettingWithCopyWarning: \n",
      "A value is trying to be set on a copy of a slice from a DataFrame.\n",
      "Try using .loc[row_indexer,col_indexer] = value instead\n",
      "\n",
      "See the caveats in the documentation: https://pandas.pydata.org/pandas-docs/stable/user_guide/indexing.html#returning-a-view-versus-a-copy\n",
      "  users_with_bio['bio_word_count'] = users_with_bio['bio'].str.split().str.len()\n"
     ]
    }
   ],
   "source": [
    "# Filter out users without bios\n",
    "users_with_bio = users_df[users_df['bio'].notna() & (users_df['bio'] != '')]\n",
    "\n",
    "# Calculate the length of the bio in words\n",
    "users_with_bio['bio_word_count'] = users_with_bio['bio'].str.split().str.len()\n",
    "\n",
    "# Prepare the independent (X) and dependent (y) variables for regression\n",
    "X = users_with_bio['bio_word_count']\n",
    "y = users_with_bio['followers']\n",
    "\n",
    "# Add a constant to the independent variable (required for statsmodels)\n",
    "X = sm.add_constant(X)\n",
    "\n",
    "# Perform the regression\n",
    "model = sm.OLS(y, X).fit()\n",
    "\n",
    "# Get the slope (coefficient) for bio_word_count\n",
    "slope = model.params['bio_word_count']\n",
    "\n",
    "# Print the result rounded to 3 decimal places\n",
    "print(\"Regression slope of followers on bio word count:\", round(slope, 3))"
   ]
  },
  {
   "cell_type": "markdown",
   "metadata": {},
   "source": [
    "### Top 5 users who created the most repos on weekends"
   ]
  },
  {
   "cell_type": "code",
   "execution_count": 65,
   "metadata": {},
   "outputs": [
    {
     "name": "stdout",
     "output_type": "stream",
     "text": [
      "Top 5 users who created the most repositories on weekends: getify, GeostatsGuy, pfrazee, dhg, thirtythreeforty\n"
     ]
    }
   ],
   "source": [
    "# Load your dataset\n",
    "df = pd.read_csv('users.csv')  # Adjust this line to your actual data source\n",
    "\n",
    "# Convert 'created_at' to datetime\n",
    "df['created_at'] = pd.to_datetime(df['created_at'])\n",
    "\n",
    "# Extract the day of the week (0=Monday, 6=Sunday)\n",
    "df['day_of_week'] = df['created_at'].dt.dayofweek\n",
    "\n",
    "# Filter for weekends (5=Saturday, 6=Sunday)\n",
    "weekend_repos = df[df['day_of_week'].isin([5, 6])]\n",
    "\n",
    "# Count the number of repositories created by each user\n",
    "repo_count = weekend_repos['login'].value_counts()\n",
    "\n",
    "# Get the top 5 users who created the most repositories\n",
    "top_5_users = repo_count.nlargest(5)\n",
    "\n",
    "# Format the output\n",
    "top_5_users_string = ', '.join(top_5_users.index)\n",
    "print(f\"Top 5 users who created the most repositories on weekends: {top_5_users_string}\")\n"
   ]
  },
  {
   "cell_type": "markdown",
   "metadata": {},
   "source": [
    "### Difference in fractions of users with email"
   ]
  },
  {
   "cell_type": "code",
   "execution_count": 66,
   "metadata": {},
   "outputs": [
    {
     "name": "stdout",
     "output_type": "stream",
     "text": [
      "Difference in fractions of users with email: 0.029\n"
     ]
    }
   ],
   "source": [
    "# Check for missing values in email and hireable columns\n",
    "missing_email_count = df['email'].isnull().sum()\n",
    "missing_hireable_count = df['hireable'].isnull().sum()\n",
    "\n",
    "# Total user counts\n",
    "total_users = len(df)\n",
    "\n",
    "# Calculate fractions of users with emails based on hireable status\n",
    "fraction_hireable_with_email = df[df['hireable'] == 'true']['email'].notnull().mean()\n",
    "fraction_non_hireable_with_email = df[df['hireable'] != 'true']['email'].notnull().mean()\n",
    "\n",
    "# Calculate the difference\n",
    "difference = fraction_hireable_with_email - fraction_non_hireable_with_email\n",
    "\n",
    "# Format the output to 3 decimal places\n",
    "difference_formatted = round(difference, 3)\n",
    "print(f\"Difference in fractions of users with email: {difference_formatted}\")\n"
   ]
  },
  {
   "cell_type": "markdown",
   "metadata": {},
   "source": [
    "### Most common surnames"
   ]
  },
  {
   "cell_type": "code",
   "execution_count": 67,
   "metadata": {},
   "outputs": [
    {
     "name": "stdout",
     "output_type": "stream",
     "text": [
      "Most common surname(s): Moore, Smith\n"
     ]
    }
   ],
   "source": [
    "# Drop rows with missing names\n",
    "df = df.dropna(subset=['name'])\n",
    "\n",
    "# Extract surnames by splitting names and taking the last word\n",
    "df['surname'] = df['name'].str.strip().str.split().str[-1]\n",
    "\n",
    "# Count occurrences of each surname\n",
    "surname_counts = Counter(df['surname'])\n",
    "\n",
    "# Find the maximum count\n",
    "max_count = max(surname_counts.values())\n",
    "\n",
    "# Get all surnames that have the maximum count\n",
    "most_common_surnames = sorted([surname for surname, count in surname_counts.items() if count == max_count])\n",
    "\n",
    "# Format the output\n",
    "most_common_surnames_str = ', '.join(most_common_surnames)\n",
    "print(f\"Most common surname(s): {most_common_surnames_str}\")\n"
   ]
  },
  {
   "cell_type": "markdown",
   "metadata": {},
   "source": [
    "### Correlation between followers and repos"
   ]
  },
  {
   "cell_type": "code",
   "execution_count": 68,
   "metadata": {},
   "outputs": [
    {
     "name": "stdout",
     "output_type": "stream",
     "text": [
      "Correlation between followers and repos: nan\n"
     ]
    }
   ],
   "source": [
    "# Filter users based in Austin\n",
    "austin_users_df = users_df[users_df['location'].str.contains('Austin', na=False)]\n",
    "\n",
    "# Calculate the correlation between followers and public repositories\n",
    "correlation = austin_users_df['followers'].corr(austin_users_df['public_repos'])\n",
    "\n",
    "# Print the correlation rounded to 3 decimal places\n",
    "print(f\"Correlation between followers and repos: {correlation:.3f}\")\n"
   ]
  },
  {
   "cell_type": "markdown",
   "metadata": {},
   "source": [
    "### Regression slope of followers on repos"
   ]
  },
  {
   "cell_type": "code",
   "execution_count": 69,
   "metadata": {},
   "outputs": [
    {
     "name": "stdout",
     "output_type": "stream",
     "text": [
      "Regression slope of followers on repos: 4.096\n"
     ]
    }
   ],
   "source": [
    "# Select relevant columns and drop missing values\n",
    "df_repos_followers = df[['public_repos', 'followers']].dropna()\n",
    "\n",
    "# Define independent (X) and dependent (y) variables\n",
    "X = df_repos_followers['public_repos']\n",
    "y = df_repos_followers['followers']\n",
    "\n",
    "# Add a constant to the independent variable for intercept\n",
    "X = sm.add_constant(X)\n",
    "\n",
    "# Fit the regression model\n",
    "model = sm.OLS(y, X).fit()\n",
    "\n",
    "# Get the slope coefficient for public_repos\n",
    "slope = model.params['public_repos']\n",
    "print(f\"Regression slope of followers on repos: {slope:.3f}\")\n"
   ]
  }
 ],
 "metadata": {
  "kernelspec": {
   "display_name": "Python 3",
   "language": "python",
   "name": "python3"
  },
  "language_info": {
   "codemirror_mode": {
    "name": "ipython",
    "version": 3
   },
   "file_extension": ".py",
   "mimetype": "text/x-python",
   "name": "python",
   "nbconvert_exporter": "python",
   "pygments_lexer": "ipython3",
   "version": "3.13.0"
  }
 },
 "nbformat": 4,
 "nbformat_minor": 2
}
