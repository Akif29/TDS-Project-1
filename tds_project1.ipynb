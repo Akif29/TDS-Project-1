{
 "cells": [
  {
   "cell_type": "code",
   "execution_count": 1,
   "metadata": {},
   "outputs": [],
   "source": [
    "import pandas as pd"
   ]
  },
  {
   "cell_type": "code",
   "execution_count": 2,
   "metadata": {},
   "outputs": [
    {
     "name": "stdout",
     "output_type": "stream",
     "text": [
      "Top 5 users by followers: getify, benawad, steveklabnik, cloudflare, jbogard\n"
     ]
    }
   ],
   "source": [
    "# Load users.csv into a DataFrame\n",
    "users_df = pd.read_csv(\"users.csv\")\n",
    "\n",
    "# Sort by the 'followers' column in descending order and select the top 5\n",
    "top_users = users_df.sort_values(by='followers', ascending=False).head(5)\n",
    "\n",
    "# Get the login names as a comma-separated string\n",
    "top_users_logins = \", \".join(top_users['login'].tolist())\n",
    "print(\"Top 5 users by followers:\", top_users_logins)"
   ]
  },
  {
   "cell_type": "code",
   "execution_count": 3,
   "metadata": {},
   "outputs": [
    {
     "name": "stdout",
     "output_type": "stream",
     "text": [
      "Earliest 5 registered users: jnewland, joshknowles, hassox, dan, damon\n"
     ]
    }
   ],
   "source": [
    "users_df = pd.read_csv(\"users.csv\")\n",
    "\n",
    "# Convert 'created_at' to datetime format\n",
    "users_df['created_at'] = pd.to_datetime(users_df['created_at'])\n",
    "\n",
    "# Sort by 'created_at' in ascending order and select the top 5\n",
    "earliest_users = users_df.sort_values(by='created_at', ascending=True).head(5)\n",
    "\n",
    "# Get the login names as a comma-separated string\n",
    "earliest_users_logins = \", \".join(earliest_users['login'].tolist())\n",
    "print(\"Earliest 5 registered users:\", earliest_users_logins)"
   ]
  },
  {
   "cell_type": "code",
   "execution_count": 4,
   "metadata": {},
   "outputs": [
    {
     "name": "stdout",
     "output_type": "stream",
     "text": [
      "Top 3 most popular licenses: mit, apache-2.0, other\n"
     ]
    }
   ],
   "source": [
    "# Load repositories.csv into a DataFrame\n",
    "repos_df = pd.read_csv(\"repositories.csv\")\n",
    "\n",
    "# Filter out rows where 'license_name' is missing or empty\n",
    "repos_df = repos_df[repos_df['license_name'].notna() & (repos_df['license_name'] != '')]\n",
    "\n",
    "# Count the occurrences of each license_name\n",
    "license_counts = repos_df['license_name'].value_counts()\n",
    "\n",
    "# Get the top 3 most common licenses\n",
    "top_licenses = \", \".join(license_counts.head(3).index)\n",
    "print(\"Top 3 most popular licenses:\", top_licenses)"
   ]
  },
  {
   "cell_type": "code",
   "execution_count": null,
   "metadata": {},
   "outputs": [
    {
     "name": "stdout",
     "output_type": "stream",
     "text": [
      "Company with the most developers: GOOGLE\n"
     ]
    }
   ],
   "source": [
    "# Load users.csv into a DataFrame\n",
    "users_df = pd.read_csv(\"users.csv\")\n",
    "\n",
    "# Clean up the 'company' column\n",
    "users_df['company'] = users_df['company'].str.strip().str.lstrip('@').str.upper()\n",
    "\n",
    "# Count occurrences of each company and get the most common one\n",
    "most_common_company = users_df['company'].value_counts().idxmax()\n",
    "\n",
    "print(\"Company with the most developers:\", most_common_company)"
   ]
  },
  {
   "cell_type": "code",
   "execution_count": 6,
   "metadata": {},
   "outputs": [
    {
     "name": "stdout",
     "output_type": "stream",
     "text": [
      "Most popular programming language: JavaScript\n"
     ]
    }
   ],
   "source": [
    "# Load repositories.csv into a DataFrame\n",
    "repos_df = pd.read_csv(\"repositories.csv\")\n",
    "\n",
    "# Filter out rows where 'language' is missing or empty\n",
    "repos_df = repos_df[repos_df['language'].notna() & (repos_df['language'] != '')]\n",
    "\n",
    "# Count occurrences of each language and get the most common one\n",
    "most_common_language = repos_df['language'].value_counts().idxmax()\n",
    "\n",
    "print(\"Most popular programming language:\", most_common_language)"
   ]
  },
  {
   "cell_type": "code",
   "execution_count": 11,
   "metadata": {},
   "outputs": [
    {
     "name": "stdout",
     "output_type": "stream",
     "text": [
      "Second most popular programming language among users who joined after 2020: JavaScript\n"
     ]
    }
   ],
   "source": [
    "# Load users.csv and repositories.csv into DataFrames\n",
    "users_df = pd.read_csv(\"users.csv\")\n",
    "repos_df = pd.read_csv(\"repositories.csv\")\n",
    "\n",
    "# Convert 'created_at' to datetime format and filter for users who joined after 2020\n",
    "users_df['created_at'] = pd.to_datetime(users_df['created_at'])\n",
    "recent_users = users_df[users_df['created_at'] > '2020-12-31']\n",
    "\n",
    "# Filter repositories to include only those from recent users\n",
    "recent_user_logins = recent_users['login'].tolist()\n",
    "recent_repos_df = repos_df[repos_df['login'].isin(recent_user_logins)]\n",
    "\n",
    "# Filter out rows with missing or empty 'language'\n",
    "recent_repos_df = recent_repos_df[recent_repos_df['language'].notna() & (recent_repos_df['language'] != '')]\n",
    "\n",
    "# Count occurrences of each language and get the second most common one\n",
    "language_counts = recent_repos_df['language'].value_counts()\n",
    "second_most_common_language = language_counts.index[1]  # Get the second most common language\n",
    "\n",
    "print(\"Second most popular programming language among users who joined after 2020:\", second_most_common_language)"
   ]
  },
  {
   "cell_type": "code",
   "execution_count": 12,
   "metadata": {},
   "outputs": [
    {
     "name": "stdout",
     "output_type": "stream",
     "text": [
      "Language with the highest average number of stars per repository: Fennel\n",
      "Average stars: 2444.0\n"
     ]
    }
   ],
   "source": [
    "# Load repositories.csv into a DataFrame\n",
    "repos_df = pd.read_csv(\"repositories.csv\")\n",
    "\n",
    "# Filter out rows where 'language' or 'stargazers_count' is missing\n",
    "repos_df = repos_df[repos_df['language'].notna() & (repos_df['language'] != '') & repos_df['stargazers_count'].notna()]\n",
    "\n",
    "# Group by 'language' and calculate the average number of stars\n",
    "avg_stars_per_language = repos_df.groupby('language')['stargazers_count'].mean()\n",
    "\n",
    "# Find the language with the highest average stars\n",
    "most_popular_language_by_stars = avg_stars_per_language.idxmax()\n",
    "highest_avg_stars = avg_stars_per_language.max()\n",
    "\n",
    "print(\"Language with the highest average number of stars per repository:\", most_popular_language_by_stars)\n",
    "print(\"Average stars:\", highest_avg_stars)"
   ]
  },
  {
   "cell_type": "code",
   "execution_count": 13,
   "metadata": {},
   "outputs": [
    {
     "name": "stdout",
     "output_type": "stream",
     "text": [
      "Top 5 users by leader_strength: getify, cloudflare, benawad, oracle, ContinuumIO\n"
     ]
    }
   ],
   "source": [
    "# Load users.csv into a DataFrame\n",
    "users_df = pd.read_csv(\"users.csv\")\n",
    "\n",
    "# Calculate leader_strength as followers / (1 + following)\n",
    "users_df['leader_strength'] = users_df['followers'] / (1 + users_df['following'])\n",
    "\n",
    "# Sort by leader_strength in descending order and select the top 5\n",
    "top_leaders = users_df.sort_values(by='leader_strength', ascending=False).head(5)\n",
    "\n",
    "# Get the login names as a comma-separated string\n",
    "top_leader_logins = \", \".join(top_leaders['login'].tolist())\n",
    "print(\"Top 5 users by leader_strength:\", top_leader_logins)"
   ]
  },
  {
   "cell_type": "code",
   "execution_count": 14,
   "metadata": {},
   "outputs": [
    {
     "name": "stdout",
     "output_type": "stream",
     "text": [
      "Correlation between followers and public repositories: 0.15\n"
     ]
    }
   ],
   "source": [
    "\n",
    "# Load users.csv into a DataFrame\n",
    "users_df = pd.read_csv(\"users.csv\")\n",
    "\n",
    "# Calculate the correlation between 'followers' and 'public_repos'\n",
    "correlation = users_df['followers'].corr(users_df['public_repos'])\n",
    "\n",
    "# Print the correlation rounded to 3 decimal places\n",
    "print(\"Correlation between followers and public repositories:\", round(correlation, 3))"
   ]
  },
  {
   "cell_type": "code",
   "execution_count": 17,
   "metadata": {},
   "outputs": [
    {
     "name": "stdout",
     "output_type": "stream",
     "text": [
      "Estimated increase in followers per additional repository: 4.09\n"
     ]
    }
   ],
   "source": [
    "import pandas as pd\n",
    "from scipy.stats import linregress\n",
    "\n",
    "# Load users.csv into a DataFrame\n",
    "users_df = pd.read_csv(\"users.csv\")\n",
    "\n",
    "# Perform linear regression on followers vs. public_repos\n",
    "slope, intercept, r_value, p_value, std_err = linregress(users_df['public_repos'], users_df['followers'])\n",
    "\n",
    "# Print the slope rounded to 3 decimal places\n",
    "print(\"Estimated increase in followers per additional repository:\", round(slope, 3))\n"
   ]
  },
  {
   "cell_type": "code",
   "execution_count": 26,
   "metadata": {},
   "outputs": [
    {
     "name": "stdout",
     "output_type": "stream",
     "text": [
      "Correlation between projects enabled and wiki enabled: 0.276\n"
     ]
    }
   ],
   "source": [
    "import pandas as pd\n",
    "\n",
    "# Load repositories.csv into a DataFrame\n",
    "repos_df = pd.read_csv(\"repositories.csv\")\n",
    "\n",
    "# Filter out rows with missing values in has_projects and has_wiki\n",
    "repos_df = repos_df[repos_df['has_projects'].notna() & repos_df['has_wiki'].notna()]\n",
    "\n",
    "# Convert boolean values to numeric: true=1, false=0\n",
    "repos_df['has_projects'] = repos_df['has_projects'].replace({'true': 1, 'false': 0})\n",
    "repos_df['has_wiki'] = repos_df['has_wiki'].replace({'true': 1, 'false': 0})\n",
    "\n",
    "# Calculate the correlation between has_projects and has_wiki\n",
    "correlation = repos_df['has_projects'].corr(repos_df['has_wiki'])\n",
    "\n",
    "# Print the correlation rounded to three decimal places\n",
    "print(\"Correlation between projects enabled and wiki enabled:\", round(correlation, 3))\n"
   ]
  },
  {
   "cell_type": "code",
   "execution_count": 30,
   "metadata": {},
   "outputs": [
    {
     "name": "stdout",
     "output_type": "stream",
     "text": [
      "Average following (hireable): 185.21\n",
      "Average following (non-hireable): 75.18598382749326\n",
      "Difference in average following: 110.024\n"
     ]
    }
   ],
   "source": [
    "import pandas as pd\n",
    "\n",
    "# Load users.csv into a DataFrame\n",
    "users_df = pd.read_csv(\"users.csv\")\n",
    "\n",
    "# Filter out users with 'none' in hireable status\n",
    "filtered_users_df = users_df[users_df['hireable'] != 'none']\n",
    "\n",
    "# Calculate average following for hireable users\n",
    "avg_following_hireable = filtered_users_df[filtered_users_df['hireable'] == 'true']['following'].mean()\n",
    "\n",
    "# Calculate average following for non-hireable users (those marked as 'none')\n",
    "avg_following_non_hireable = users_df[users_df['hireable'] == 'none']['following'].mean()\n",
    "\n",
    "# Calculate the difference\n",
    "difference = avg_following_hireable - avg_following_non_hireable\n",
    "\n",
    "# Print the result rounded to three decimal places\n",
    "print(\"Average following (hireable):\", avg_following_hireable)\n",
    "print(\"Average following (non-hireable):\", avg_following_non_hireable)\n",
    "print(\"Difference in average following:\", round(difference, 3))\n"
   ]
  },
  {
   "cell_type": "code",
   "execution_count": 22,
   "metadata": {},
   "outputs": [
    {
     "name": "stdout",
     "output_type": "stream",
     "text": [
      "Regression slope of followers on bio word count: 9.195\n"
     ]
    },
    {
     "name": "stderr",
     "output_type": "stream",
     "text": [
      "C:\\Users\\akifk\\AppData\\Local\\Temp\\ipykernel_17232\\309431923.py:11: SettingWithCopyWarning: \n",
      "A value is trying to be set on a copy of a slice from a DataFrame.\n",
      "Try using .loc[row_indexer,col_indexer] = value instead\n",
      "\n",
      "See the caveats in the documentation: https://pandas.pydata.org/pandas-docs/stable/user_guide/indexing.html#returning-a-view-versus-a-copy\n",
      "  users_with_bio['bio_word_count'] = users_with_bio['bio'].str.split().str.len()\n"
     ]
    }
   ],
   "source": [
    "import pandas as pd\n",
    "import statsmodels.api as sm\n",
    "\n",
    "# Load users.csv into a DataFrame\n",
    "users_df = pd.read_csv(\"users.csv\")\n",
    "\n",
    "# Filter out users without bios\n",
    "users_with_bio = users_df[users_df['bio'].notna() & (users_df['bio'] != '')]\n",
    "\n",
    "# Calculate the length of the bio in words\n",
    "users_with_bio['bio_word_count'] = users_with_bio['bio'].str.split().str.len()\n",
    "\n",
    "# Prepare the independent (X) and dependent (y) variables for regression\n",
    "X = users_with_bio['bio_word_count']\n",
    "y = users_with_bio['followers']\n",
    "\n",
    "# Add a constant to the independent variable (required for statsmodels)\n",
    "X = sm.add_constant(X)\n",
    "\n",
    "# Perform the regression\n",
    "model = sm.OLS(y, X).fit()\n",
    "\n",
    "# Get the slope (coefficient) for bio_word_count\n",
    "slope = model.params['bio_word_count']\n",
    "\n",
    "# Print the result rounded to 3 decimal places\n",
    "print(\"Regression slope of followers on bio word count:\", round(slope, 3))\n"
   ]
  },
  {
   "cell_type": "code",
   "execution_count": 23,
   "metadata": {},
   "outputs": [
    {
     "name": "stdout",
     "output_type": "stream",
     "text": [
      "Top 5 users who created the most repositories on weekends: FellowTraveler, realityexpander, OR13, PaulBratslavsky, skeptycal\n"
     ]
    }
   ],
   "source": [
    "import pandas as pd\n",
    "\n",
    "# Load repositories.csv into a DataFrame\n",
    "repos_df = pd.read_csv(\"repositories.csv\")\n",
    "\n",
    "# Convert the 'created_at' column to datetime format\n",
    "repos_df['created_at'] = pd.to_datetime(repos_df['created_at'])\n",
    "\n",
    "# Filter for weekend days (Saturday = 5, Sunday = 6)\n",
    "repos_df['weekday'] = repos_df['created_at'].dt.weekday\n",
    "weekend_repos = repos_df[repos_df['weekday'].isin([5, 6])]\n",
    "\n",
    "# Group by user login and count the number of repositories created\n",
    "user_repo_counts = weekend_repos.groupby('login').size().reset_index(name='repo_count')\n",
    "\n",
    "# Sort by repo_count in descending order and get the top 5\n",
    "top_users = user_repo_counts.sort_values(by='repo_count', ascending=False).head(5)\n",
    "\n",
    "# Extract the login of the top 5 users\n",
    "top_user_logins = top_users['login'].tolist()\n",
    "\n",
    "# Print the logins in comma-separated format\n",
    "print(\"Top 5 users who created the most repositories on weekends:\", ', '.join(top_user_logins))\n"
   ]
  },
  {
   "cell_type": "code",
   "execution_count": 24,
   "metadata": {},
   "outputs": [
    {
     "name": "stdout",
     "output_type": "stream",
     "text": [
      "Difference in email sharing between hireable and non-hireable users: 0.52\n"
     ]
    }
   ],
   "source": [
    "import pandas as pd\n",
    "\n",
    "# Load users.csv into a DataFrame\n",
    "users_df = pd.read_csv(\"users.csv\")\n",
    "\n",
    "# Calculate the number of hireable users with email addresses\n",
    "hireable_with_email = users_df[(users_df['hireable'] == 'true') & (users_df['email'].notna() & (users_df['email'] != ''))]\n",
    "total_hireable = users_df[users_df['hireable'] == 'true']\n",
    "\n",
    "# Calculate the fraction of hireable users with email addresses\n",
    "fraction_hireable_with_email = len(hireable_with_email) / len(total_hireable) if len(total_hireable) > 0 else 0\n",
    "\n",
    "# Calculate the number of non-hireable users with email addresses\n",
    "non_hireable_with_email = users_df[(users_df['hireable'] == 'false') & (users_df['email'].notna() & (users_df['email'] != ''))]\n",
    "total_non_hireable = users_df[users_df['hireable'] == 'false']\n",
    "\n",
    "# Calculate the fraction of non-hireable users with email addresses\n",
    "fraction_non_hireable_with_email = len(non_hireable_with_email) / len(total_non_hireable) if len(total_non_hireable) > 0 else 0\n",
    "\n",
    "# Calculate the difference between the two fractions\n",
    "email_fraction_difference = round(fraction_hireable_with_email - fraction_non_hireable_with_email, 3)\n",
    "\n",
    "# Print the result\n",
    "print(\"Difference in email sharing between hireable and non-hireable users:\", email_fraction_difference)\n"
   ]
  },
  {
   "cell_type": "code",
   "execution_count": 25,
   "metadata": {},
   "outputs": [
    {
     "name": "stdout",
     "output_type": "stream",
     "text": [
      "Most common surname(s): Moore, Smith\n"
     ]
    }
   ],
   "source": [
    "import pandas as pd\n",
    "from collections import Counter\n",
    "\n",
    "# Load users.csv into a DataFrame\n",
    "users_df = pd.read_csv(\"users.csv\")\n",
    "\n",
    "# Drop rows with missing names\n",
    "users_df = users_df[users_df['name'].notna()]\n",
    "\n",
    "# Extract surnames\n",
    "users_df['surname'] = users_df['name'].str.strip().str.split().str[-1]\n",
    "\n",
    "# Count occurrences of each surname\n",
    "surname_counts = Counter(users_df['surname'])\n",
    "\n",
    "# Find the maximum occurrence\n",
    "max_count = max(surname_counts.values())\n",
    "\n",
    "# Identify the most common surnames (handle ties)\n",
    "most_common_surnames = [surname for surname, count in surname_counts.items() if count == max_count]\n",
    "\n",
    "# Sort surnames alphabetically\n",
    "most_common_surnames.sort()\n",
    "\n",
    "# Join them in a comma-separated string\n",
    "most_common_surnames_str = ', '.join(most_common_surnames)\n",
    "\n",
    "# Print the result\n",
    "print(\"Most common surname(s):\", most_common_surnames_str)\n"
   ]
  }
 ],
 "metadata": {
  "kernelspec": {
   "display_name": "Python 3",
   "language": "python",
   "name": "python3"
  },
  "language_info": {
   "codemirror_mode": {
    "name": "ipython",
    "version": 3
   },
   "file_extension": ".py",
   "mimetype": "text/x-python",
   "name": "python",
   "nbconvert_exporter": "python",
   "pygments_lexer": "ipython3",
   "version": "3.13.0"
  }
 },
 "nbformat": 4,
 "nbformat_minor": 2
}
